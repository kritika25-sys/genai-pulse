{
 "cells": [
  {
   "cell_type": "markdown",
   "id": "22517f9b-6530-4f25-8ba3-59a43cc71e95",
   "metadata": {},
   "source": [
    "# GenAI Pulse: Mapping Public Sentiments and Trends around Generative AI Tools"
   ]
  },
  {
   "cell_type": "markdown",
   "id": "dbd6e83c-3200-479b-a3fb-87f9fb72eb5e",
   "metadata": {},
   "source": [
    "In recent years, Generative AI tools have seen rapid adoption across industries, with tools like ChatGPT, Claude, Copilot, Gemini, Sora, and Meta AI becoming household names in both professional and personal contexts. GenAI has rapidly transformed how individuals and industries interact with technology. "
   ]
  },
  {
   "cell_type": "markdown",
   "id": "0299b464-50e1-4128-8b57-49ae4ffa8271",
   "metadata": {},
   "source": [
    "Reddit, being a vibrant community of tech enthusiasts, professionals, and early adopters, serves as a goldmine of real-world user opinions. By analyzing Reddit discussions over the past two years, this project uncovers: \n",
    "- The **popularity trends** of different GenAI tools.\n",
    "- How **public sentiment** has shifted over time.\n",
    "- The **reception of these tools across various industries**.\n",
    "- **Forecasts of future sentiment** for ChatGPT: the key player."
   ]
  },
  {
   "cell_type": "markdown",
   "id": "0cc13896-9e62-4932-9d47-e826cafb9082",
   "metadata": {},
   "source": [
    "This analysis combines **data visualisation**, **natural language processing**, and **machine learning techniques** to provide a comprehensive view of how generative AI is shaping online conversations and perceptions."
   ]
  },
  {
   "cell_type": "markdown",
   "id": "07c29de5-8ec8-45c1-8aa9-bc0f4be27451",
   "metadata": {},
   "source": [
    "### Objectives\n",
    "- Identify which GenAI tools are being discussed the most.\n",
    "- Measure the audience's sentiment for each tool over time.\n",
    "- Explore how these tools are received in IT/Tech, Education, Finance, and Healthcare industries.\n",
    "- Analyze major dips and spikes in sentiment to understand the cause.\n",
    "- Forecast future sentiment for ChatGPT using Facebook Prophet. "
   ]
  },
  {
   "cell_type": "markdown",
   "id": "bbb002b3-c3d3-4192-a114-ca787c805129",
   "metadata": {},
   "source": [
    "### Dataset Details"
   ]
  },
  {
   "cell_type": "markdown",
   "id": "da39638b-cfbd-477a-b345-f4b944a63ce3",
   "metadata": {},
   "source": [
    "To understand public perception and sentiment around Generative AI tools, this project uses a cleaned dataset collected from Reddit. "
   ]
  },
  {
   "cell_type": "code",
   "execution_count": null,
   "id": "64f89a2d-3727-4c0d-a9a6-ec9921ebce8d",
   "metadata": {},
   "outputs": [],
   "source": []
  }
 ],
 "metadata": {
  "kernelspec": {
   "display_name": "Python 3 (ipykernel)",
   "language": "python",
   "name": "python3"
  },
  "language_info": {
   "codemirror_mode": {
    "name": "ipython",
    "version": 3
   },
   "file_extension": ".py",
   "mimetype": "text/x-python",
   "name": "python",
   "nbconvert_exporter": "python",
   "pygments_lexer": "ipython3",
   "version": "3.13.3"
  }
 },
 "nbformat": 4,
 "nbformat_minor": 5
}
